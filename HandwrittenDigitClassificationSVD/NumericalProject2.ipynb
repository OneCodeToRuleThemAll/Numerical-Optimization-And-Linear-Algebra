{
 "cells": [
  {
   "cell_type": "markdown",
   "id": "e4d808cf",
   "metadata": {},
   "source": [
    "## Nikolaos Papadopoulos\n",
    "\n",
    "#### Course: Numerical Optimization and Large Scale Linear Algebra\n",
    "\n",
    "#### 2nd assignment: SVD Classification"
   ]
  },
  {
   "cell_type": "markdown",
   "id": "88273f48",
   "metadata": {},
   "source": [
    "In this assignment we were tasked with creating an algorithm that classifies handwritten digits based on the Singular Value Decomposition(SVD)."
   ]
  },
  {
   "cell_type": "code",
   "execution_count": 1,
   "id": "d601ea0b",
   "metadata": {},
   "outputs": [],
   "source": [
    "#Imports\n",
    "import os\n",
    "import numpy as np\n",
    "import random\n",
    "import time\n",
    "import pandas as pd\n",
    "import warnings\n",
    "warnings.filterwarnings(\"ignore\")\n",
    "from matplotlib import pyplot as plt\n",
    "from numpy.linalg import svd, norm\n",
    "from sklearn.metrics import accuracy_score, confusion_matrix, classification_report"
   ]
  },
  {
   "cell_type": "code",
   "execution_count": 2,
   "id": "6f9675da",
   "metadata": {},
   "outputs": [],
   "source": [
    "#Setting my directory\n",
    "# os.chdir('.\\\\NumericalOptimization\\\\Assignment 2')"
   ]
  },
  {
   "cell_type": "code",
   "execution_count": 3,
   "id": "92886e7e",
   "metadata": {},
   "outputs": [
    {
     "data": {
      "text/plain": [
       "['dtest', 'azip', 'dzip', 'testzip']"
      ]
     },
     "execution_count": 3,
     "metadata": {},
     "output_type": "execute_result"
    }
   ],
   "source": [
    "#Checking sheet_names\n",
    "pd.ExcelFile(r'data.xlsx').sheet_names"
   ]
  },
  {
   "cell_type": "code",
   "execution_count": 4,
   "id": "44b2b5ff",
   "metadata": {},
   "outputs": [],
   "source": [
    "#Reading the data in DataFrames & Transforming DataFrames into NumPy arrays/Y needed extra flattening\n",
    "x_train = pd.read_excel (r'data.xlsx', sheet_name='azip',header=None).to_numpy()\n",
    "y_train = pd.read_excel (r'data.xlsx', sheet_name='dzip',header=None).to_numpy()[0]\n",
    "x_test = pd.read_excel (r'data.xlsx', sheet_name='testzip',header=None).to_numpy()\n",
    "y_test = pd.read_excel (r'data.xlsx', sheet_name='dtest',header=None).to_numpy()"
   ]
  },
  {
   "cell_type": "code",
   "execution_count": 5,
   "id": "ac52db5d",
   "metadata": {},
   "outputs": [],
   "source": [
    "#Creating a function to display the images in black and white\n",
    "def display_image(image):\n",
    "    #Reshaping image to desired dimensions\n",
    "    image = image.reshape((16,16))\n",
    "    #Plotting in grayscale\n",
    "    plt.imshow(image , cmap = 'gray');"
   ]
  },
  {
   "cell_type": "code",
   "execution_count": 6,
   "id": "2ea267b1",
   "metadata": {},
   "outputs": [
    {
     "data": {
      "image/png": "[encoded data removed]",
      "text/plain": [
       "<Figure size 432x288 with 1 Axes>"
      ]
     },
     "metadata": {
      "needs_background": "light"
     },
     "output_type": "display_data"
    }
   ],
   "source": [
    "#Testing\n",
    "display_image(x_train[:,8])"
   ]
  },
  {
   "cell_type": "code",
   "execution_count": 7,
   "id": "5388782a",
   "metadata": {},
   "outputs": [],
   "source": [
    "#Getting indexes of digits/Grouping digits together\n",
    "indexes = []\n",
    "[indexes.append(np.where(y_train == i)[0]) for i in range(0,10)];"
   ]
  },
  {
   "cell_type": "code",
   "execution_count": 8,
   "id": "93b3d7c9",
   "metadata": {},
   "outputs": [],
   "source": [
    "#Initializing SVD Matrices\n",
    "ud,sd,vd=[],[],[]\n",
    "#Running 10 SVDs(One for each digit/With digits properly grouped from above)\n",
    "for i in range(0,10):\n",
    "    u,s,v= svd(x_train.T[indexes[i]].T)\n",
    "    ud.append(u)\n",
    "    sd.append(s)\n",
    "    #V matrix is not required so no need to store it."
   ]
  },
  {
   "cell_type": "markdown",
   "id": "59d23e8d",
   "metadata": {},
   "source": [
    "#### Classification - Least Squares"
   ]
  },
  {
   "cell_type": "markdown",
   "id": "57116727",
   "metadata": {},
   "source": [
    "I will now be formulating the Residual Calculator Algorithm while at the same time creating a loop that will go through different numbers of basis vectors(From 5 to 21 as asked in the exercise).Afterwards,I will be printing the accuracy and storing the number of the best estimator/model."
   ]
  },
  {
   "cell_type": "code",
   "execution_count": 9,
   "id": "1c10bbae",
   "metadata": {},
   "outputs": [
    {
     "name": "stdout",
     "output_type": "stream",
     "text": [
      "Accuracy =  0.9028400597907325 for k = 5 basis vectors\n",
      "Accuracy =  0.9053313403089188 for k = 6 basis vectors\n",
      "Accuracy =  0.916791230692576 for k = 7 basis vectors\n",
      "Accuracy =  0.9202790234180369 for k = 8 basis vectors\n",
      "Accuracy =  0.9262580966616841 for k = 9 basis vectors\n",
      "Accuracy =  0.931738913801694 for k = 10 basis vectors\n",
      "Accuracy =  0.9322371699053313 for k = 11 basis vectors\n",
      "Accuracy =  0.9357249626307922 for k = 12 basis vectors\n",
      "Accuracy =  0.9362232187344295 for k = 13 basis vectors\n",
      "Accuracy =  0.9392127553562531 for k = 14 basis vectors\n",
      "Accuracy =  0.9412057797708022 for k = 15 basis vectors\n",
      "Accuracy =  0.9387144992526159 for k = 16 basis vectors\n",
      "Accuracy =  0.9392127553562531 for k = 17 basis vectors\n",
      "Accuracy =  0.9417040358744395 for k = 18 basis vectors\n",
      "Accuracy =  0.9407075236671649 for k = 19 basis vectors\n",
      "Accuracy =  0.9397110114598903 for k = 20 basis vectors\n"
     ]
    }
   ],
   "source": [
    "#Tuning the algorithm for accuracy\n",
    "#Initializing Identity Matrix which will  be used later on.\n",
    "I = np.eye(256,256)\n",
    "digit_accuracy_score = []\n",
    "#Testing for 5 to 21 basis vectors\n",
    "for n in range(5,21):\n",
    "    #Initializing predictions\n",
    "    predictions=[]\n",
    "    #For every test data\n",
    "    for j in range(x_test.shape[1]):\n",
    "        residual = []\n",
    "        #For every digit\n",
    "        for i in range(0,10):\n",
    "            #U for that digit\n",
    "            u = ud[i][:,:n]\n",
    "            uuT=np.dot(u,u.T)\n",
    "            z = x_test.T[j]\n",
    "            #Calculating residual for each digit\n",
    "            residual.append(norm(np.dot(I-uuT, z))/norm(z))\n",
    "        #Adding the residual in a list so as to have every digit residual in one list\n",
    "        predictions.append(np.argmin(residual))\n",
    "    #Checking accuracy\n",
    "    acc=accuracy_score(y_test.T, predictions)\n",
    "    #Storing all accuracy scores\n",
    "    digit_accuracy_score.append(acc)\n",
    "    print('Accuracy = ',acc,'for k =',n,'basis vectors')"
   ]
  },
  {
   "cell_type": "code",
   "execution_count": 10,
   "id": "c6d8a2b4",
   "metadata": {},
   "outputs": [
    {
     "name": "stdout",
     "output_type": "stream",
     "text": [
      "best accuracy is 0.9417040358744395 for k = 18\n"
     ]
    }
   ],
   "source": [
    "print('best accuracy is',np.max(digit_accuracy_score),'for k =',np.argmax(digit_accuracy_score)+5)"
   ]
  },
  {
   "cell_type": "code",
   "execution_count": 11,
   "id": "7402e317",
   "metadata": {},
   "outputs": [],
   "source": [
    "#Storing best n(Number of basis vectors)\n",
    "bestn = np.argmax(digit_accuracy_score)+5"
   ]
  },
  {
   "cell_type": "code",
   "execution_count": 12,
   "id": "8d85bca3",
   "metadata": {},
   "outputs": [
    {
     "data": {
      "image/png": "[encoded data removed]",
      "text/plain": [
       "<Figure size 432x288 with 1 Axes>"
      ]
     },
     "metadata": {
      "needs_background": "light"
     },
     "output_type": "display_data"
    }
   ],
   "source": [
    "#N1 is used to help me plot the graph\n",
    "n1 = np.arange(5,21)\n",
    "plt.title('Correctly classified digits percentage as a function of the number of basis vectors')\n",
    "plt.xlabel('Number of Basis Vectors')\n",
    "plt.ylabel('Accuracy Score')\n",
    "plt.plot(n1,digit_accuracy_score);"
   ]
  },
  {
   "cell_type": "code",
   "execution_count": 13,
   "id": "d41cab9c",
   "metadata": {},
   "outputs": [
    {
     "name": "stdout",
     "output_type": "stream",
     "text": [
      "Accuracy =  0.9417040358744395 for k = 20 basis vectors\n"
     ]
    }
   ],
   "source": [
    "predictions=[]\n",
    "for j in range(x_test.shape[1]):\n",
    "    residual = []\n",
    "    for i in range(0,10):\n",
    "        u = ud[i][:,:18]\n",
    "        uuT=np.dot(u,u.T)\n",
    "        z = x_test.T[j]\n",
    "        residual.append(norm(np.dot(I-uuT, z))/norm(z))\n",
    "    predictions.append(np.argmin(residual))\n",
    "acc=accuracy_score(y_test.T, predictions)\n",
    "print('Accuracy = ',acc,'for k =',n,'basis vectors')"
   ]
  },
  {
   "cell_type": "code",
   "execution_count": 14,
   "id": "6aa675aa",
   "metadata": {},
   "outputs": [
    {
     "name": "stdout",
     "output_type": "stream",
     "text": [
      "[[355   0   2   0   1   0   0   0   0   1]\n",
      " [  0 259   0   0   3   0   2   0   0   0]\n",
      " [  8   1 178   2   5   0   0   1   3   0]\n",
      " [  2   0   3 150   1   6   0   1   2   1]\n",
      " [  2   1   0   0 185   2   0   3   0   7]\n",
      " [  7   1   1   5   0 141   0   0   2   3]\n",
      " [  2   1   0   0   2   1 163   0   1   0]\n",
      " [  0   1   1   0   3   0   0 141   0   1]\n",
      " [  2   0   1   6   0   1   0   0 153   3]\n",
      " [  0   2   0   1   4   0   0   3   2 165]]\n"
     ]
    }
   ],
   "source": [
    "print(confusion_matrix(y_test.T,predictions))"
   ]
  },
  {
   "cell_type": "code",
   "execution_count": 15,
   "id": "f56e428f",
   "metadata": {},
   "outputs": [
    {
     "name": "stdout",
     "output_type": "stream",
     "text": [
      "              precision    recall  f1-score   support\n",
      "\n",
      "           0       0.94      0.99      0.96       359\n",
      "           1       0.97      0.98      0.98       264\n",
      "           2       0.96      0.90      0.93       198\n",
      "           3       0.91      0.90      0.91       166\n",
      "           4       0.91      0.93      0.92       200\n",
      "           5       0.93      0.88      0.91       160\n",
      "           6       0.99      0.96      0.97       170\n",
      "           7       0.95      0.96      0.95       147\n",
      "           8       0.94      0.92      0.93       166\n",
      "           9       0.91      0.93      0.92       177\n",
      "\n",
      "    accuracy                           0.94      2007\n",
      "   macro avg       0.94      0.94      0.94      2007\n",
      "weighted avg       0.94      0.94      0.94      2007\n",
      "\n"
     ]
    }
   ],
   "source": [
    "print(classification_report(y_test.T,predictions))"
   ]
  },
  {
   "cell_type": "markdown",
   "id": "36acab75",
   "metadata": {},
   "source": [
    "We see that not all digits are equally easy to classify.Our highest scoring digit is that of 1 and our lowest scoring digit is number 3 and 5(Both have the lowest f1-score)"
   ]
  },
  {
   "cell_type": "markdown",
   "id": "c441a8d4",
   "metadata": {},
   "source": [
    "Looking at some of the difficult ones, and seeing that in many cases they are very badly written."
   ]
  },
  {
   "cell_type": "code",
   "execution_count": 16,
   "id": "3c761a03",
   "metadata": {},
   "outputs": [
    {
     "data": {
      "image/png": "[encoded data removed]",
      "text/plain": [
       "<Figure size 432x288 with 1 Axes>"
      ]
     },
     "metadata": {
      "needs_background": "light"
     },
     "output_type": "display_data"
    },
    {
     "name": "stdout",
     "output_type": "stream",
     "text": [
      "Wrongly predicted:  0\n"
     ]
    },
    {
     "data": {
      "image/png": "[encoded data removed]",
      "text/plain": [
       "<Figure size 432x288 with 1 Axes>"
      ]
     },
     "metadata": {
      "needs_background": "light"
     },
     "output_type": "display_data"
    },
    {
     "name": "stdout",
     "output_type": "stream",
     "text": [
      "Wrongly predicted:  8\n"
     ]
    },
    {
     "data": {
      "image/png": "[encoded data removed]",
      "text/plain": [
       "<Figure size 432x288 with 1 Axes>"
      ]
     },
     "metadata": {
      "needs_background": "light"
     },
     "output_type": "display_data"
    },
    {
     "name": "stdout",
     "output_type": "stream",
     "text": [
      "Wrongly predicted:  9\n"
     ]
    },
    {
     "data": {
      "image/png": "[encoded data removed]",
      "text/plain": [
       "<Figure size 432x288 with 1 Axes>"
      ]
     },
     "metadata": {
      "needs_background": "light"
     },
     "output_type": "display_data"
    },
    {
     "name": "stdout",
     "output_type": "stream",
     "text": [
      "Wrongly predicted:  3\n"
     ]
    },
    {
     "data": {
      "image/png": "[encoded data removed]",
      "text/plain": [
       "<Figure size 432x288 with 1 Axes>"
      ]
     },
     "metadata": {
      "needs_background": "light"
     },
     "output_type": "display_data"
    },
    {
     "name": "stdout",
     "output_type": "stream",
     "text": [
      "Wrongly predicted:  2\n"
     ]
    }
   ],
   "source": [
    "#Checking 5 random wrongly classified digits\n",
    "mistakes = y_test.T!=np.array(predictions).reshape(2007,1)\n",
    "\n",
    "#Setting up my seed for reproducibility\n",
    "random.seed(0)\n",
    "rand = random.choices(np.where(mistakes==True)[0], k=5)\n",
    "\n",
    "#Plotting the randomly chosen\n",
    "for i in range(len(rand)):\n",
    "    plt.imshow(x_test[:,rand[i]].reshape((16,16)),cmap='gray');\n",
    "    plt.show()\n",
    "    print(\"Wrongly predicted: \", predictions[rand[i]])"
   ]
  },
  {
   "cell_type": "markdown",
   "id": "3b9aae65",
   "metadata": {},
   "source": [
    "We see that many of the digits that were wrongly classified were very badly written and some of them would have been as\n",
    "difficult to classify even by human annotators hence our model underperforming for these specific images is not without reason."
   ]
  },
  {
   "cell_type": "code",
   "execution_count": 17,
   "id": "adcead23",
   "metadata": {},
   "outputs": [
    {
     "name": "stdout",
     "output_type": "stream",
     "text": [
      "For Digit 0 [184.  98.  62.  54.  41.  40.  36.  30.  29.  25.]\n",
      "For Digit 1 [234.  42.  25.  16.  14.  13.  11.  11.   8.   8.]\n",
      "For Digit 2 [138.  57.  46.  41.  38.  34.  32.  28.  27.  27.]\n",
      "For Digit 3 [127.  40.  33.  30.  28.  25.  24.  21.  19.  19.]\n",
      "For Digit 4 [123.  42.  35.  32.  27.  25.  22.  20.  20.  18.]\n",
      "For Digit 5 [94. 38. 36. 28. 24. 22. 21. 20. 17. 17.]\n",
      "For Digit 6 [142.  52.  38.  32.  26.  25.  21.  21.  19.  19.]\n",
      "For Digit 7 [160.  47.  37.  35.  31.  22.  20.  19.  18.  17.]\n",
      "For Digit 8 [133.  42.  34.  30.  29.  25.  23.  22.  21.  19.]\n",
      "For Digit 9 [141.  46.  30.  29.  23.  21.  19.  17.  15.  15.]\n"
     ]
    }
   ],
   "source": [
    "#Checking the 10 first singular values for each Digit/Class\n",
    "[print('For Digit',i,np.round(sd[i][:10])) for i in range(0,10)];"
   ]
  },
  {
   "cell_type": "markdown",
   "id": "802f7a22",
   "metadata": {},
   "source": [
    "We see that for digit 1 and 6 our singular values are way higher than the rest so we can maybe reduce the number of basis\n",
    "vectors for these 2 classes and see if it pays off since most of the information is stored on the first few basis vectors.\n",
    "\n",
    "We also see that the first singular value is way bigger compared to the second singular value of the above chosen digits."
   ]
  },
  {
   "cell_type": "code",
   "execution_count": 18,
   "id": "2943f1a2",
   "metadata": {},
   "outputs": [
    {
     "name": "stdout",
     "output_type": "stream",
     "text": [
      "86.198 % accuracy for k = 1 basis vectors\n",
      "90.135 % accuracy for k = 3 basis vectors\n",
      "91.779 % accuracy for k = 5 basis vectors\n",
      "92.875 % accuracy for k = 7 basis vectors\n",
      "93.722 % accuracy for k = 9 basis vectors\n"
     ]
    }
   ],
   "source": [
    "#Testing for # of basis vectors for the above 2 classes\n",
    "for n in [1,3,5,7,9]:\n",
    "    digit_accuracy_score = []\n",
    "    predictions=[]\n",
    "    for j in range(x_test.shape[1]):\n",
    "        residual = []\n",
    "        for i in range(0,10):\n",
    "            #If its class 1 or 6 use the reduced number\n",
    "            if i == 1 or i == 6:\n",
    "                y = n\n",
    "            else:\n",
    "                #Use the one that was obtained when tuning the hyperparameters\n",
    "                y = 18\n",
    "            u = ud[i][:,:y]\n",
    "            uuT=np.dot(u,u.T)\n",
    "            z = x_test.T[j]\n",
    "            residual.append(norm(np.dot(I-uuT, z))/norm(z))\n",
    "        predictions.append(np.argmin(residual))\n",
    "    acc=accuracy_score(y_test.T, predictions)\n",
    "    digit_accuracy_score.append(acc)\n",
    "    print(round(acc*100,3),'% accuracy for k =',n ,'basis vectors')"
   ]
  },
  {
   "cell_type": "markdown",
   "id": "8238cb17",
   "metadata": {},
   "source": [
    "We see that for half basis vectors for the digit class 1 and 6 we get a score real close to our original score of 18 basis vectors.Hence,it is to the best of our interest to use a lower number of basis vectors in the classification of the above digits if we want to skip computations.(It pays off to use fewer basis vectors in these 2 classes)"
   ]
  },
  {
   "cell_type": "markdown",
   "id": "5ff53f2f",
   "metadata": {},
   "source": [
    "#### TWO-STAGE ALGORITHM WITH SVD"
   ]
  },
  {
   "cell_type": "markdown",
   "id": "c46344e3",
   "metadata": {},
   "source": [
    "We are now going to implement a two-stage algorithm so as to check whether its efficient to use one basis vector when calculating the residuals given a certain threshold.I will be experimenting with various thresholds starting from 0.05(low) to 0.3(high) meaning that if the difference between the calculated residual using one vector and the calculated residual using 18 basis vectors is lower than that of our threshold,then we deem that using one basis vector is acceptable."
   ]
  },
  {
   "cell_type": "code",
   "execution_count": 19,
   "id": "09a54193",
   "metadata": {},
   "outputs": [
    {
     "name": "stdout",
     "output_type": "stream",
     "text": [
      "Accuracy 91.3 % for residual torelance 0.05 and the second stage was unecessary 71.45 % of the time\n",
      "Accuracy 93.89999999999999 % for residual torelance 0.1 and the second stage was unecessary 51.32 % of the time\n",
      "Accuracy 94.19999999999999 % for residual torelance 0.2 and the second stage was unecessary 23.72 % of the time\n",
      "Accuracy 94.19999999999999 % for residual torelance 0.3 and the second stage was unecessary 12.95 % of the time\n"
     ]
    }
   ],
   "source": [
    "for tolerance in[0.05,0.1,0.2,0.3]:\n",
    "    digit_accuracy_score = []\n",
    "    predictions=[]\n",
    "    unecessary_counter=0\n",
    "    for j in range(x_test.shape[1]):\n",
    "        residual = []\n",
    "        for i in range(0,10):\n",
    "            #In the first stage compare the unknown digit only to the first singular vector in each class.\n",
    "            u = ud[i][:,:1]\n",
    "            uuT=np.dot(u,u.T)\n",
    "            z = x_test.T[j]\n",
    "            residual.append(norm(np.dot(I-uuT, z))/norm(z))\n",
    "        #If for one class the residual is significantly smaller than for the others, classify as that class.\n",
    "        if sorted(residual)[1] - min(residual) > tolerance:\n",
    "            predictions.append(np.argmin(residual))\n",
    "            #How frequently is the second stage skipped\n",
    "            unecessary_counter+=1\n",
    "        else:\n",
    "            #Otherwise perform the algorithm above\n",
    "            residual = []\n",
    "            for i in range(0,10):\n",
    "                u = ud[i][:,:18]\n",
    "                uuT=np.dot(u,u.T)\n",
    "                residual.append(norm(np.dot(I-uuT, z))/norm(z))\n",
    "            predictions.append(np.argmin(residual))\n",
    "    acc=accuracy_score(y_test.T, predictions)\n",
    "    digit_accuracy_score.append(acc)\n",
    "    print('Accuracy',round(digit_accuracy_score[0],3)*100,'% for residual torelance',tolerance,'and the second stage was unecessary',round((unecessary_counter/x_test.shape[1])*100,2),'% of the time')"
   ]
  },
  {
   "cell_type": "markdown",
   "id": "091f1440",
   "metadata": {},
   "source": [
    "We see that for a low tolerance of 0.1 the algorithm accuracy is almost the same as before but we have skipped the second phase more than 50% of the time(51.32% to be precise).That means that we get almost the same score even though the algorithm has saved a lot of computing power that may prove to be very important in the long run.\n",
    "Hence,it is possible to get as good results as the starting algorithm with this variant(With little trade-off)"
   ]
  }
 ],
 "metadata": {
  "kernelspec": {
   "display_name": "Python 3 (ipykernel)",
   "language": "python",
   "name": "python3"
  },
  "language_info": {
   "codemirror_mode": {
    "name": "ipython",
    "version": 3
   },
   "file_extension": ".py",
   "mimetype": "text/x-python",
   "name": "python",
   "nbconvert_exporter": "python",
   "pygments_lexer": "ipython3",
   "version": "3.8.8"
  }
 },
 "nbformat": 4,
 "nbformat_minor": 5
}
