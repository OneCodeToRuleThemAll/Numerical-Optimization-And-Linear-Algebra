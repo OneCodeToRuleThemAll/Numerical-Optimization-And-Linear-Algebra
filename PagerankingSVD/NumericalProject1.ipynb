{
 "cells": [
  {
   "cell_type": "markdown",
   "id": "94af6764",
   "metadata": {},
   "source": [
    "## Nikolaos Papadopoulos\n",
    "\n",
    "#### Course: Numerical Optimization and Large Scale Linear Algebra\n",
    "\n",
    "#### 1st assignment: PageRank"
   ]
  },
  {
   "cell_type": "markdown",
   "id": "96051036",
   "metadata": {},
   "source": [
    "In this assignment we were tasked with creating a page-rank algorithm given a .txt with the nodes and their out-links(No weights) in a condensed form."
   ]
  },
  {
   "cell_type": "markdown",
   "id": "fee5ed86",
   "metadata": {},
   "source": [
    "First,we prepare our data so as to create the sparse matrix that is going to represent all the nodes and their links."
   ]
  },
  {
   "cell_type": "code",
   "execution_count": 1,
   "id": "337dc02c",
   "metadata": {},
   "outputs": [],
   "source": [
    "#Necessary imports\n",
    "import os\n",
    "import numpy as np\n",
    "import time\n",
    "import pandas as pd\n",
    "from  scipy import sparse\n",
    "from scipy.sparse import csc_matrix\n",
    "from scipy.stats import rankdata"
   ]
  },
  {
   "cell_type": "code",
   "execution_count": 2,
   "id": "18ccb0b5",
   "metadata": {},
   "outputs": [],
   "source": [
    "#Setting my directory\n",
    "os.chdir('.\\\\NumericalOptimization\\\\Assignment 1')"
   ]
  },
  {
   "cell_type": "code",
   "execution_count": 3,
   "id": "0b386699",
   "metadata": {},
   "outputs": [],
   "source": [
    "#Reading the file and skipping the first 2 rows as they are not needed\n",
    "data = pd.read_csv('out.web-BerkStan',sep=' ',header=None,skiprows=2)\n",
    "#Extra column was created(Filled with NAN) so I dropped it\n",
    "data=data.drop(columns=[2])\n",
    "#Nodes in python start at 0 but our text starts with node number 1 so we are subtracting 1 from every node\n",
    "data[0]=data[0]-1\n",
    "data[1]=data[1]-1\n",
    "rows = (data[0]) \n",
    "cols = (data[1])\n",
    "#Matrix N\n",
    "n = len(set(rows) | set(cols))"
   ]
  },
  {
   "cell_type": "code",
   "execution_count": 4,
   "id": "7fd3e151",
   "metadata": {},
   "outputs": [],
   "source": [
    "#Tidying the dataframe\n",
    "data=data.rename(columns = {0:'Node',1:'Outlink'})"
   ]
  },
  {
   "cell_type": "code",
   "execution_count": 5,
   "id": "4e3e609b",
   "metadata": {},
   "outputs": [],
   "source": [
    "#Outlinks per node\n",
    "weight=data.Node.value_counts() "
   ]
  },
  {
   "cell_type": "code",
   "execution_count": 6,
   "id": "e22ff7dd",
   "metadata": {},
   "outputs": [],
   "source": [
    "#Getting the probability Distribution of each node\n",
    "data['weight'] = data['Node'].apply(lambda r : 1/weight[r])"
   ]
  },
  {
   "cell_type": "code",
   "execution_count": 7,
   "id": "192f2b6a",
   "metadata": {},
   "outputs": [
    {
     "data": {
      "text/html": [
       "<div>\n",
       "<style scoped>\n",
       "    .dataframe tbody tr th:only-of-type {\n",
       "        vertical-align: middle;\n",
       "    }\n",
       "\n",
       "    .dataframe tbody tr th {\n",
       "        vertical-align: top;\n",
       "    }\n",
       "\n",
       "    .dataframe thead th {\n",
       "        text-align: right;\n",
       "    }\n",
       "</style>\n",
       "<table border=\"1\" class=\"dataframe\">\n",
       "  <thead>\n",
       "    <tr style=\"text-align: right;\">\n",
       "      <th></th>\n",
       "      <th>Node</th>\n",
       "      <th>Outlink</th>\n",
       "      <th>weight</th>\n",
       "    </tr>\n",
       "  </thead>\n",
       "  <tbody>\n",
       "    <tr>\n",
       "      <th>0</th>\n",
       "      <td>0</td>\n",
       "      <td>1</td>\n",
       "      <td>0.111111</td>\n",
       "    </tr>\n",
       "    <tr>\n",
       "      <th>1</th>\n",
       "      <td>0</td>\n",
       "      <td>2</td>\n",
       "      <td>0.111111</td>\n",
       "    </tr>\n",
       "    <tr>\n",
       "      <th>2</th>\n",
       "      <td>0</td>\n",
       "      <td>3</td>\n",
       "      <td>0.111111</td>\n",
       "    </tr>\n",
       "    <tr>\n",
       "      <th>3</th>\n",
       "      <td>0</td>\n",
       "      <td>4</td>\n",
       "      <td>0.111111</td>\n",
       "    </tr>\n",
       "    <tr>\n",
       "      <th>4</th>\n",
       "      <td>0</td>\n",
       "      <td>5</td>\n",
       "      <td>0.111111</td>\n",
       "    </tr>\n",
       "    <tr>\n",
       "      <th>5</th>\n",
       "      <td>0</td>\n",
       "      <td>6</td>\n",
       "      <td>0.111111</td>\n",
       "    </tr>\n",
       "    <tr>\n",
       "      <th>6</th>\n",
       "      <td>0</td>\n",
       "      <td>7</td>\n",
       "      <td>0.111111</td>\n",
       "    </tr>\n",
       "    <tr>\n",
       "      <th>7</th>\n",
       "      <td>0</td>\n",
       "      <td>8</td>\n",
       "      <td>0.111111</td>\n",
       "    </tr>\n",
       "    <tr>\n",
       "      <th>8</th>\n",
       "      <td>0</td>\n",
       "      <td>9</td>\n",
       "      <td>0.111111</td>\n",
       "    </tr>\n",
       "    <tr>\n",
       "      <th>9</th>\n",
       "      <td>8</td>\n",
       "      <td>10</td>\n",
       "      <td>0.010417</td>\n",
       "    </tr>\n",
       "  </tbody>\n",
       "</table>\n",
       "</div>"
      ],
      "text/plain": [
       "   Node  Outlink    weight\n",
       "0     0        1  0.111111\n",
       "1     0        2  0.111111\n",
       "2     0        3  0.111111\n",
       "3     0        4  0.111111\n",
       "4     0        5  0.111111\n",
       "5     0        6  0.111111\n",
       "6     0        7  0.111111\n",
       "7     0        8  0.111111\n",
       "8     0        9  0.111111\n",
       "9     8       10  0.010417"
      ]
     },
     "execution_count": 7,
     "metadata": {},
     "output_type": "execute_result"
    }
   ],
   "source": [
    "#Making sure weight has been distributed correctly among nodes\n",
    "data[:10]"
   ]
  },
  {
   "cell_type": "markdown",
   "id": "235aa0d3",
   "metadata": {},
   "source": [
    "## 1) Creating the Sparse Matrix"
   ]
  },
  {
   "cell_type": "code",
   "execution_count": 8,
   "id": "b91d7050",
   "metadata": {},
   "outputs": [],
   "source": [
    "#Sparse matrix\n",
    "matrix = sparse.csr_matrix((data.weight,(rows, cols)))"
   ]
  },
  {
   "cell_type": "code",
   "execution_count": 9,
   "id": "9841a519",
   "metadata": {},
   "outputs": [
    {
     "data": {
      "text/plain": [
       "(685230, 685230)"
      ]
     },
     "execution_count": 9,
     "metadata": {},
     "output_type": "execute_result"
    }
   ],
   "source": [
    "#Making sure the dimensions are correct\n",
    "matrix.shape"
   ]
  },
  {
   "cell_type": "code",
   "execution_count": 10,
   "id": "a823d390",
   "metadata": {},
   "outputs": [
    {
     "data": {
      "text/plain": [
       "4744"
      ]
     },
     "execution_count": 10,
     "metadata": {},
     "output_type": "execute_result"
    }
   ],
   "source": [
    "#Creating a as instructed\n",
    "a = np.zeros(n)\n",
    "a[list(set(cols).difference(set(rows)))] = 1\n",
    "np.count_nonzero(a)"
   ]
  },
  {
   "cell_type": "code",
   "execution_count": 11,
   "id": "d564ea2c",
   "metadata": {},
   "outputs": [],
   "source": [
    "#Creating E,V as instructed on the pagerank paper for the power method\n",
    "#(Am using the transposed version so as not to transpose when calling the function to save time)\n",
    "e = np.ones((matrix.shape[0],1))\n",
    "v = np.ones((matrix.shape[0],1))/matrix.shape[0] "
   ]
  },
  {
   "cell_type": "markdown",
   "id": "49fc4c72",
   "metadata": {},
   "source": [
    "## Defining the Power Method algorithm"
   ]
  },
  {
   "cell_type": "code",
   "execution_count": 12,
   "id": "43c88ce6",
   "metadata": {},
   "outputs": [],
   "source": [
    "def power_method(P,a,alpha,v,tol):\n",
    "    #Creating C so as to initialize the while loop.\n",
    "    c = 1\n",
    "    #Initiliazing x_previous\n",
    "    x_previous = e/len(a)\n",
    "    #Iteration counter\n",
    "    iteration = 0\n",
    "    #Termination criterion\n",
    "    while c>tol:\n",
    "        iteration = iteration+1\n",
    "        #Getting the probability vector\n",
    "        xkt = alpha*sparse.csr_matrix.dot(x_previous.T,P)+(alpha*sparse.csr_matrix.dot(x_previous.T,a)+ (1-alpha))*v.T\n",
    "        #Getting the transposed form\n",
    "        xk = xkt.T\n",
    "        # Euclidean Norm\n",
    "        c  = np.linalg.norm(xk - x_previous,2)\n",
    "        #Updating x_previous\n",
    "        x_previous = xk\n",
    "    print (iteration,'iterations')\n",
    "    return (x_previous)"
   ]
  },
  {
   "cell_type": "code",
   "execution_count": 13,
   "id": "fc416e17",
   "metadata": {},
   "outputs": [
    {
     "name": "stdout",
     "output_type": "stream",
     "text": [
      "71 iterations\n",
      "Power method with a=0.85 converges in  2.23 seconds\n"
     ]
    }
   ],
   "source": [
    "#Setting up the timer\n",
    "start = time.time()\n",
    "b = power_method(matrix,a,0.85,v,1e-8)\n",
    "end = time.time()\n",
    "print('Power method with a=0.85 converges in ',round((end-start),3),'seconds')"
   ]
  },
  {
   "cell_type": "markdown",
   "id": "a532b710",
   "metadata": {},
   "source": [
    "## 2) Changing Alpha value and findings"
   ]
  },
  {
   "cell_type": "code",
   "execution_count": 14,
   "id": "9b24993d",
   "metadata": {},
   "outputs": [
    {
     "name": "stdout",
     "output_type": "stream",
     "text": [
      "1217 iterations\n",
      "Power method with a=0.99 converges in  36.801 seconds\n"
     ]
    }
   ],
   "source": [
    "#Increasing alpha value to 0.99\n",
    "start = time.time()\n",
    "c = power_method(matrix,a,0.99,v,1e-8)\n",
    "end = time.time()\n",
    "print('Power method with a=0.99 converges in ',round((end-start),3),'seconds')"
   ]
  },
  {
   "cell_type": "code",
   "execution_count": 15,
   "id": "fed3e287",
   "metadata": {},
   "outputs": [
    {
     "name": "stdout",
     "output_type": "stream",
     "text": [
      "1217 iterations\n"
     ]
    }
   ],
   "source": [
    "c = power_method(matrix,a,0.99,v,1e-8)"
   ]
  },
  {
   "cell_type": "markdown",
   "id": "31da454a",
   "metadata": {},
   "source": [
    "We see that for a=0.85 we have iterated 71 times and converged in 2 seconds whereas as we increase a to 0.99 we get 1217 iterations and the convergence time is increased to 34 seconds."
   ]
  },
  {
   "cell_type": "markdown",
   "id": "fc628b14",
   "metadata": {},
   "source": [
    "As expected,the smaller the alpha is, the faster the convergence, but the smaller α is, the less the true hyperlink structure of the web is used to determine webpage importance. And slightly different values for α can produce very different PageRanks. Moreover, as α → 1, not only does convergence slow drastically, but sensitivity issues begin to surface as\n",
    "well."
   ]
  },
  {
   "cell_type": "markdown",
   "id": "d88d9768",
   "metadata": {},
   "source": [
    "However, in addition to the computational reasons for choosing\n",
    "α = .85, this choice for α also carries some intuitive weight: α = .85 implies that roughly 5/6 of the\n",
    "time a Web surfer randomly clicks on hyperlinks (i.e., following the structure of the Web, as captured\n",
    "by the α  ̄P part of the formula), while 1/6 of the time this Web surfer will go to the URL line and type\n",
    "the address of a new page to “teleport” to (as captured by the (1 − α)evT part of the formula)."
   ]
  },
  {
   "cell_type": "markdown",
   "id": "7868e753",
   "metadata": {},
   "source": [
    "Whereas α = .99, not only slows convergence of the power method, but also\n",
    "places much greater emphasis on the hyperlink structure of the Web and much less on the teleportation\n",
    "tendencies of surfers."
   ]
  },
  {
   "cell_type": "markdown",
   "id": "0fac0972",
   "metadata": {},
   "source": [
    "The PageRank vector derived from α = .99 can be vastly different from that obtained using α = .85.\n",
    "Perhaps it gives a “truer” PageRanking. Experiments with various α’s show significant variation in\n",
    "rankings produced by different values of α [97, 98, 110]. As expected, the top section of the ranking\n",
    "changes only slightly, yet as we proceed down the ranked list we see more and more variation."
   ]
  },
  {
   "cell_type": "markdown",
   "id": "07d79f85",
   "metadata": {},
   "source": [
    "We see that the ranking of the 100 highest ranking nodes is different using a= 0.85 and a=0.99"
   ]
  },
  {
   "cell_type": "code",
   "execution_count": 16,
   "id": "4437dd9e",
   "metadata": {},
   "outputs": [
    {
     "data": {
      "text/plain": [
       "array([False, False, False, False, False, False, False, False, False,\n",
       "       False, False, False, False, False, False, False, False, False,\n",
       "       False, False, False, False, False, False, False, False, False,\n",
       "       False, False, False, False, False, False, False, False, False,\n",
       "       False, False, False, False, False, False, False, False, False,\n",
       "       False, False, False, False, False, False, False, False, False,\n",
       "       False, False, False, False, False, False, False, False, False,\n",
       "       False, False, False, False, False, False, False, False, False,\n",
       "       False, False, False, False, False, False, False, False, False,\n",
       "       False, False, False, False, False, False, False, False, False,\n",
       "       False, False, False, False, False, False, False, False, False,\n",
       "       False])"
      ]
     },
     "execution_count": 16,
     "metadata": {},
     "output_type": "execute_result"
    }
   ],
   "source": [
    "rankdata(b)[0:100]==rankdata(c)[0:100]"
   ]
  },
  {
   "cell_type": "code",
   "execution_count": 17,
   "id": "ed89a45b",
   "metadata": {},
   "outputs": [],
   "source": [
    "#Choosing method ordinal as all values are given a distinct rank.\n",
    "pagerankb=rankdata(b,method='ordinal')\n",
    "pagerankc=rankdata(c,method='ordinal')"
   ]
  },
  {
   "cell_type": "code",
   "execution_count": 18,
   "id": "1e6a0e1a",
   "metadata": {},
   "outputs": [
    {
     "data": {
      "text/plain": [
       "array([680685, 662814, 650820, 668985, 646655, 663419, 663253, 661916,\n",
       "       684761, 685229, 608685, 608686, 608687, 608688, 673309, 608689,\n",
       "       608690, 608691, 608692, 608693, 608694, 683845, 611313, 608695,\n",
       "       611314, 611315, 611316, 611317, 611318, 611319, 608696, 608697,\n",
       "       620318, 608698, 620319, 620320, 675408, 620321, 620322, 620323,\n",
       "       620324, 608699, 608700, 608701, 608702, 608703, 608704, 608705,\n",
       "       608706, 608707, 608708, 608709, 608710, 608711, 683823, 683647,\n",
       "       608712, 608713, 608714, 608715, 608716, 608717, 608718, 608719,\n",
       "       608720, 608721, 608722, 608723, 608724, 608725, 608726, 608727,\n",
       "       683711, 608728, 608729, 608730, 608731, 608732, 608733, 608734,\n",
       "       608735, 608736, 608737, 608738, 683834, 608739, 608740, 608741,\n",
       "       608742, 608743, 608744, 608745, 608746, 608747, 609954, 608748,\n",
       "       608749, 683854, 608750, 608751], dtype=int64)"
      ]
     },
     "execution_count": 18,
     "metadata": {},
     "output_type": "execute_result"
    }
   ],
   "source": [
    "#Node ranks\n",
    "pagerankb[0:100]"
   ]
  },
  {
   "cell_type": "code",
   "execution_count": 19,
   "id": "d3690514",
   "metadata": {},
   "outputs": [
    {
     "data": {
      "text/plain": [
       "array([288238,      9, 225465,  54130,   1283, 564114, 288346,  65122,\n",
       "          113,    114,  51590,    470,    476,    475,    504,    501,\n",
       "          500,    497,    496,    495,    477,    474,    473,    472,\n",
       "       288245,    597,    600,  54199,  54207,  51553,    499,    505,\n",
       "          507,    498,    506,    502,  71439, 476639,    607,  51593,\n",
       "        51588,  65160,  54197, 288967,  54201,  54187,  54195,  54194,\n",
       "        54198, 483455,  54200,  54186, 482866,  54189, 288246,  54196,\n",
       "          609,    608, 483446, 483468,  65159,    596, 289060,    589,\n",
       "          651,  47428,  65161,    617, 184997,    615,    618,    625,\n",
       "          624,  54138, 278503,    626,  53845,  55358, 508986, 508615,\n",
       "        55927, 288256, 508999, 508977,   1791,   1801, 288243, 554442,\n",
       "        55928,  55929, 660726, 483192, 660739, 660717, 554443, 220432,\n",
       "        52196,    115,  70702,   1800], dtype=int64)"
      ]
     },
     "execution_count": 19,
     "metadata": {},
     "output_type": "execute_result"
    }
   ],
   "source": [
    "#Highest 100 node ranking for a = 0.85\n",
    "pagerankb.argsort()[::-1][:100]"
   ]
  },
  {
   "cell_type": "code",
   "execution_count": 20,
   "id": "c38dc244",
   "metadata": {},
   "outputs": [
    {
     "data": {
      "text/plain": [
       "array([ 51553,   1283, 288238, 288730,      9,  47428,  54140,    470,\n",
       "          476,    475,    504,    501,    500,    497,    496,    495,\n",
       "          477,    474,    473,    472, 564114,    499,    505,    507,\n",
       "          498,    506,    502,  71439, 288243,  53845,  54207,  54199,\n",
       "         2120, 225465,  51590, 288346,  54130,  70583, 483455, 482866,\n",
       "        70549,  54142,  54141,  54197, 483468, 483446,  54201,  54187,\n",
       "       466840,  54195,  54194,  54198,  54200,  54186,  54189,  54196,\n",
       "       119870, 466841,  51557,  55358, 278503, 466843, 225576,  55927,\n",
       "       288729,    114, 466842,  53854, 508986, 508615, 199990, 199989,\n",
       "       379621, 508999, 508977, 451663,  51566,   1088,   1087,  55928,\n",
       "        55929, 660726, 483192,    113,  47441,  65610,  65614, 660739,\n",
       "        65612,  65611, 660717,  65613,  65609, 152821,  51555, 332485,\n",
       "        70702,  53837,  51593,  70698], dtype=int64)"
      ]
     },
     "execution_count": 20,
     "metadata": {},
     "output_type": "execute_result"
    }
   ],
   "source": [
    "#Highest 100 node ranking for a = 0.99\n",
    "pagerankc.argsort()[::-1][:100]"
   ]
  },
  {
   "cell_type": "markdown",
   "id": "7da12900",
   "metadata": {},
   "source": [
    "## 3) Which nodes converge faster?"
   ]
  },
  {
   "cell_type": "markdown",
   "id": "2b679776",
   "metadata": {},
   "source": [
    "To answer this question I'm going to get the thousand highest ranking nodes and the thousand lowest ranking nodes in conjuction with a power method test function I'm going to check at which stage these nodes get close(given a certain threshold) to their final values."
   ]
  },
  {
   "cell_type": "markdown",
   "id": "445ad7ac",
   "metadata": {},
   "source": [
    "The threshold will be the difference of the final page-rank value with the current page-rank value of all given nodes.\n",
    "When that differece meets a threshold a message will be presented letting the user know."
   ]
  },
  {
   "cell_type": "code",
   "execution_count": 21,
   "id": "10f51296",
   "metadata": {},
   "outputs": [],
   "source": [
    "#10 highest ranking nodes (Storing these values for later)\n",
    "tenhighest = pagerankb.argsort()[::-1][:10]\n",
    "#10 lowest ranking nodes\n",
    "tenlowest = pagerankb.argsort()[::-1][-10:]"
   ]
  },
  {
   "cell_type": "code",
   "execution_count": 22,
   "id": "729e612c",
   "metadata": {},
   "outputs": [],
   "source": [
    "#Thousand highest ranking nodes\n",
    "highestbunch = pagerankb.argsort()[::-1][:1000]\n",
    "#Thousand lowest ranking nodes\n",
    "lowestbunch = pagerankb.argsort()[::-1][-1000:]"
   ]
  },
  {
   "cell_type": "code",
   "execution_count": 23,
   "id": "91aeacb7",
   "metadata": {},
   "outputs": [],
   "source": [
    "def which_converge_first(P,a,alpha,v,tol):\n",
    "    #As the previous power method function\n",
    "    c = 1\n",
    "    x_previous = e/len(a)\n",
    "    iteration = 0\n",
    "    t1=1\n",
    "    t2=1\n",
    "    #Termination criterion\n",
    "    while c>tol:\n",
    "        iteration = iteration+1\n",
    "        xkt = alpha*sparse.csr_matrix.dot(x_previous.T,P)+(alpha*sparse.csr_matrix.dot(x_previous.T,a)+ (1-alpha))*v.T\n",
    "        xk = xkt.T\n",
    "        #Euclidian Norm\n",
    "        c  = np.linalg.norm(xk - x_previous,2) \n",
    "        x_previous = xk\n",
    "        if ((x_previous[pagerankb.argsort()[::-1][:1000]] - b[highestbunch]) < [1e-8]).all() and t1!=0:\n",
    "            print('Iterated',iteration,'times for highest ranking nodes convergence')\n",
    "            t1=0\n",
    "        if ((x_previous[pagerankb.argsort()[::-1][-1000:]] - b[lowestbunch]) < [1e-8]).all() and t2!=0:\n",
    "            print('Iterated',iteration,'time for lowest ranking nodes convergence')\n",
    "            t2=0\n",
    "            print(' ')"
   ]
  },
  {
   "cell_type": "code",
   "execution_count": 24,
   "id": "c9d7bab4",
   "metadata": {},
   "outputs": [
    {
     "name": "stdout",
     "output_type": "stream",
     "text": [
      "Iterated 1 time for lowest ranking nodes convergence\n",
      " \n",
      "Iterated 63 times for highest ranking nodes convergence\n"
     ]
    }
   ],
   "source": [
    "which_converge_first(matrix,a,0.85,v,1e-8)"
   ]
  },
  {
   "cell_type": "markdown",
   "id": "d6fa08c8",
   "metadata": {},
   "source": [
    "As we see from the results above it took the highest ranking nodes(More 'important' ones) 63 iterations to reach the threshold I've chosen but the lowest ranking nodes only needed 1 iteration as their value remained the lowest one(Which they were initialized with)"
   ]
  },
  {
   "cell_type": "markdown",
   "id": "eddccde1",
   "metadata": {},
   "source": [
    "The Highest Ranking Nodes need on average more iterations to converge than the Lowest Ranking Nodes. This is to no surprise due to the fact that the low rank nodes tend to have more outgoing than incoming connections, thus \"flowing\" pagerank faster towards other nodes while their pagerank is fastly converging to a value near the predefined threshold. The opposite happens to the high rank nodes, where the vast incoming connections give boost to their pagerank constantly until a point where they fluctuate around the specific threshold."
   ]
  },
  {
   "cell_type": "markdown",
   "id": "40a91529",
   "metadata": {},
   "source": [
    "High-rank nodes have their page-rank score boosted because of the incoming connections from mostly other important nodes until they reach a point where they bounce around their final value."
   ]
  },
  {
   "cell_type": "markdown",
   "id": "811a5e85",
   "metadata": {},
   "source": [
    "## 4) Adding a new node"
   ]
  },
  {
   "cell_type": "code",
   "execution_count": 25,
   "id": "80722102",
   "metadata": {},
   "outputs": [
    {
     "data": {
      "text/html": [
       "<div>\n",
       "<style scoped>\n",
       "    .dataframe tbody tr th:only-of-type {\n",
       "        vertical-align: middle;\n",
       "    }\n",
       "\n",
       "    .dataframe tbody tr th {\n",
       "        vertical-align: top;\n",
       "    }\n",
       "\n",
       "    .dataframe thead th {\n",
       "        text-align: right;\n",
       "    }\n",
       "</style>\n",
       "<table border=\"1\" class=\"dataframe\">\n",
       "  <thead>\n",
       "    <tr style=\"text-align: right;\">\n",
       "      <th></th>\n",
       "      <th>Node</th>\n",
       "      <th>Outlink</th>\n",
       "      <th>weight</th>\n",
       "    </tr>\n",
       "  </thead>\n",
       "  <tbody>\n",
       "    <tr>\n",
       "      <th>0</th>\n",
       "      <td>0</td>\n",
       "      <td>1</td>\n",
       "      <td>0.111111</td>\n",
       "    </tr>\n",
       "    <tr>\n",
       "      <th>1</th>\n",
       "      <td>0</td>\n",
       "      <td>2</td>\n",
       "      <td>0.111111</td>\n",
       "    </tr>\n",
       "    <tr>\n",
       "      <th>2</th>\n",
       "      <td>0</td>\n",
       "      <td>3</td>\n",
       "      <td>0.111111</td>\n",
       "    </tr>\n",
       "    <tr>\n",
       "      <th>3</th>\n",
       "      <td>0</td>\n",
       "      <td>4</td>\n",
       "      <td>0.111111</td>\n",
       "    </tr>\n",
       "    <tr>\n",
       "      <th>4</th>\n",
       "      <td>0</td>\n",
       "      <td>5</td>\n",
       "      <td>0.111111</td>\n",
       "    </tr>\n",
       "    <tr>\n",
       "      <th>...</th>\n",
       "      <td>...</td>\n",
       "      <td>...</td>\n",
       "      <td>...</td>\n",
       "    </tr>\n",
       "    <tr>\n",
       "      <th>7600590</th>\n",
       "      <td>684759</td>\n",
       "      <td>684750</td>\n",
       "      <td>0.076923</td>\n",
       "    </tr>\n",
       "    <tr>\n",
       "      <th>7600591</th>\n",
       "      <td>684759</td>\n",
       "      <td>684756</td>\n",
       "      <td>0.076923</td>\n",
       "    </tr>\n",
       "    <tr>\n",
       "      <th>7600592</th>\n",
       "      <td>684759</td>\n",
       "      <td>684757</td>\n",
       "      <td>0.076923</td>\n",
       "    </tr>\n",
       "    <tr>\n",
       "      <th>7600593</th>\n",
       "      <td>684759</td>\n",
       "      <td>684758</td>\n",
       "      <td>0.076923</td>\n",
       "    </tr>\n",
       "    <tr>\n",
       "      <th>7600594</th>\n",
       "      <td>684759</td>\n",
       "      <td>684760</td>\n",
       "      <td>0.076923</td>\n",
       "    </tr>\n",
       "  </tbody>\n",
       "</table>\n",
       "<p>7600595 rows × 3 columns</p>\n",
       "</div>"
      ],
      "text/plain": [
       "           Node  Outlink    weight\n",
       "0             0        1  0.111111\n",
       "1             0        2  0.111111\n",
       "2             0        3  0.111111\n",
       "3             0        4  0.111111\n",
       "4             0        5  0.111111\n",
       "...         ...      ...       ...\n",
       "7600590  684759   684750  0.076923\n",
       "7600591  684759   684756  0.076923\n",
       "7600592  684759   684757  0.076923\n",
       "7600593  684759   684758  0.076923\n",
       "7600594  684759   684760  0.076923\n",
       "\n",
       "[7600595 rows x 3 columns]"
      ]
     },
     "execution_count": 25,
     "metadata": {},
     "output_type": "execute_result"
    }
   ],
   "source": [
    "data"
   ]
  },
  {
   "cell_type": "markdown",
   "id": "59fd8a0d",
   "metadata": {},
   "source": [
    "### Our new node will be numbered as 685230"
   ]
  },
  {
   "cell_type": "markdown",
   "id": "18987a03",
   "metadata": {},
   "source": [
    "And it will out-link to the 10 highest ranking nodes as well as have in-links from 500 amongst the lower half part of all the nodes."
   ]
  },
  {
   "cell_type": "code",
   "execution_count": 26,
   "id": "e7e926f9",
   "metadata": {},
   "outputs": [],
   "source": [
    "#10 highest ranking nodes\n",
    "x1=pagerankb.argsort()[::-1][:10]"
   ]
  },
  {
   "cell_type": "code",
   "execution_count": 27,
   "id": "8e5eca54",
   "metadata": {},
   "outputs": [],
   "source": [
    "#Nodes that were evaluated on the lowest half of the ranking\n",
    "x2pre=pagerankb.argsort()[::-1][-342615:]\n",
    "\n",
    "np.random.seed(seed=1)\n",
    "#Picking 500 nodes randomly\n",
    "x2=np.random.choice(x2pre,500,replace=False)"
   ]
  },
  {
   "cell_type": "code",
   "execution_count": 28,
   "id": "b45e87ad",
   "metadata": {},
   "outputs": [],
   "source": [
    "#Getting the wanted nodes-outlinks combos\n",
    "x1new=np.stack(([685230]*10,x1),axis=1)\n",
    "x2new=np.stack((x2,[685230]*500),axis=1)\n",
    "#Combining them together\n",
    "xfinal=np.vstack((x1new,x2new))"
   ]
  },
  {
   "cell_type": "code",
   "execution_count": 29,
   "id": "57ef90a2",
   "metadata": {},
   "outputs": [
    {
     "data": {
      "text/html": [
       "<div>\n",
       "<style scoped>\n",
       "    .dataframe tbody tr th:only-of-type {\n",
       "        vertical-align: middle;\n",
       "    }\n",
       "\n",
       "    .dataframe tbody tr th {\n",
       "        vertical-align: top;\n",
       "    }\n",
       "\n",
       "    .dataframe thead th {\n",
       "        text-align: right;\n",
       "    }\n",
       "</style>\n",
       "<table border=\"1\" class=\"dataframe\">\n",
       "  <thead>\n",
       "    <tr style=\"text-align: right;\">\n",
       "      <th></th>\n",
       "      <th>Node</th>\n",
       "      <th>Outlink</th>\n",
       "      <th>weight</th>\n",
       "    </tr>\n",
       "  </thead>\n",
       "  <tbody>\n",
       "    <tr>\n",
       "      <th>0</th>\n",
       "      <td>0</td>\n",
       "      <td>1</td>\n",
       "      <td>0.111111</td>\n",
       "    </tr>\n",
       "    <tr>\n",
       "      <th>1</th>\n",
       "      <td>0</td>\n",
       "      <td>2</td>\n",
       "      <td>0.111111</td>\n",
       "    </tr>\n",
       "    <tr>\n",
       "      <th>2</th>\n",
       "      <td>0</td>\n",
       "      <td>3</td>\n",
       "      <td>0.111111</td>\n",
       "    </tr>\n",
       "    <tr>\n",
       "      <th>3</th>\n",
       "      <td>0</td>\n",
       "      <td>4</td>\n",
       "      <td>0.111111</td>\n",
       "    </tr>\n",
       "    <tr>\n",
       "      <th>4</th>\n",
       "      <td>0</td>\n",
       "      <td>5</td>\n",
       "      <td>0.111111</td>\n",
       "    </tr>\n",
       "    <tr>\n",
       "      <th>...</th>\n",
       "      <td>...</td>\n",
       "      <td>...</td>\n",
       "      <td>...</td>\n",
       "    </tr>\n",
       "    <tr>\n",
       "      <th>505</th>\n",
       "      <td>320548</td>\n",
       "      <td>685230</td>\n",
       "      <td>NaN</td>\n",
       "    </tr>\n",
       "    <tr>\n",
       "      <th>506</th>\n",
       "      <td>398397</td>\n",
       "      <td>685230</td>\n",
       "      <td>NaN</td>\n",
       "    </tr>\n",
       "    <tr>\n",
       "      <th>507</th>\n",
       "      <td>499291</td>\n",
       "      <td>685230</td>\n",
       "      <td>NaN</td>\n",
       "    </tr>\n",
       "    <tr>\n",
       "      <th>508</th>\n",
       "      <td>613076</td>\n",
       "      <td>685230</td>\n",
       "      <td>NaN</td>\n",
       "    </tr>\n",
       "    <tr>\n",
       "      <th>509</th>\n",
       "      <td>488324</td>\n",
       "      <td>685230</td>\n",
       "      <td>NaN</td>\n",
       "    </tr>\n",
       "  </tbody>\n",
       "</table>\n",
       "<p>7601105 rows × 3 columns</p>\n",
       "</div>"
      ],
      "text/plain": [
       "       Node  Outlink    weight\n",
       "0         0        1  0.111111\n",
       "1         0        2  0.111111\n",
       "2         0        3  0.111111\n",
       "3         0        4  0.111111\n",
       "4         0        5  0.111111\n",
       "..      ...      ...       ...\n",
       "505  320548   685230       NaN\n",
       "506  398397   685230       NaN\n",
       "507  499291   685230       NaN\n",
       "508  613076   685230       NaN\n",
       "509  488324   685230       NaN\n",
       "\n",
       "[7601105 rows x 3 columns]"
      ]
     },
     "execution_count": 29,
     "metadata": {},
     "output_type": "execute_result"
    }
   ],
   "source": [
    "#Creating a new dataframe\n",
    "xfinal = pd.DataFrame(xfinal)\n",
    "xfinal=xfinal.rename(columns={0:'Node',1:'Outlink'})\n",
    "#Stacking them together\n",
    "finaldf=pd.concat([data,xfinal])\n",
    "finaldf"
   ]
  },
  {
   "cell_type": "code",
   "execution_count": 30,
   "id": "0aeea643",
   "metadata": {},
   "outputs": [],
   "source": [
    "#Getting the probability Distribution of each node\n",
    "weight2=finaldf.Node.value_counts()\n",
    "finaldf['weight'] = finaldf['Node'].apply(lambda r : 1/weight2[r])\n",
    "\n",
    "#Creating the new sparse matrix\n",
    "rows = (finaldf['Node']) \n",
    "cols = (finaldf['Outlink'])\n",
    "n = len(set(rows) | set(cols))\n",
    "a = np.zeros(n)\n",
    "a[list(set(cols).difference(set(rows)))] = 1\n",
    "\n",
    "\n",
    "matrix2 = sparse.csr_matrix((finaldf.weight,(rows, cols)))\n",
    "\n",
    "#Creating E,V\n",
    "e = np.ones((matrix2.shape[0],1))\n",
    "v = np.ones((matrix2.shape[0],1))/matrix2.shape[0] "
   ]
  },
  {
   "cell_type": "code",
   "execution_count": 31,
   "id": "a9d8f5ff",
   "metadata": {},
   "outputs": [
    {
     "data": {
      "text/plain": [
       "(685231, 685231)"
      ]
     },
     "execution_count": 31,
     "metadata": {},
     "output_type": "execute_result"
    }
   ],
   "source": [
    "#Making sure shapes match\n",
    "matrix2.shape"
   ]
  },
  {
   "cell_type": "code",
   "execution_count": 32,
   "id": "29b5c582",
   "metadata": {},
   "outputs": [
    {
     "name": "stdout",
     "output_type": "stream",
     "text": [
      "71 iterations\n"
     ]
    }
   ],
   "source": [
    "b2 = power_method(matrix2,a,0.85,v,1e-8)"
   ]
  },
  {
   "cell_type": "code",
   "execution_count": 33,
   "id": "6bff43b2",
   "metadata": {},
   "outputs": [
    {
     "data": {
      "text/plain": [
       "array([288238,      9, 225465,  54130,   1283, 564114, 288346,  65122,\n",
       "          113,    114], dtype=int64)"
      ]
     },
     "execution_count": 33,
     "metadata": {},
     "output_type": "execute_result"
    }
   ],
   "source": [
    "#10 highest ranking nodes\n",
    "rankdata(b2,method='ordinal').argsort()[::-1][:10]"
   ]
  },
  {
   "cell_type": "code",
   "execution_count": 34,
   "id": "50aa2d02",
   "metadata": {},
   "outputs": [
    {
     "data": {
      "text/plain": [
       "array([680686, 662815, 650821, 668984, 646659, 663420, 663253, 661918,\n",
       "       684762, 685230], dtype=int64)"
      ]
     },
     "execution_count": 34,
     "metadata": {},
     "output_type": "execute_result"
    }
   ],
   "source": [
    "rankdata(b2,method='ordinal')[:10]"
   ]
  },
  {
   "cell_type": "code",
   "execution_count": 35,
   "id": "ec6e3bc2",
   "metadata": {},
   "outputs": [
    {
     "data": {
      "text/plain": [
       "680848"
      ]
     },
     "execution_count": 35,
     "metadata": {},
     "output_type": "execute_result"
    }
   ],
   "source": [
    "rankdata(b2,method='ordinal')[-1]"
   ]
  },
  {
   "cell_type": "code",
   "execution_count": 36,
   "id": "4831274e",
   "metadata": {},
   "outputs": [
    {
     "name": "stdout",
     "output_type": "stream",
     "text": [
      "The new node is ranked at 4383 out of 685231 total nodes\n"
     ]
    }
   ],
   "source": [
    "print('The new node is ranked at',685231-rankdata(b2,method='ordinal')[-1],'out of 685231 total nodes')"
   ]
  },
  {
   "cell_type": "code",
   "execution_count": 37,
   "id": "534815e1",
   "metadata": {},
   "outputs": [
    {
     "name": "stdout",
     "output_type": "stream",
     "text": [
      "1217 iterations\n"
     ]
    }
   ],
   "source": [
    "#Checking for a = 0.99\n",
    "c2 = power_method(matrix2,a,0.99,v,1e-8)"
   ]
  },
  {
   "cell_type": "markdown",
   "id": "69a4f6f9",
   "metadata": {},
   "source": [
    "## 5) Adding a new node v2"
   ]
  },
  {
   "cell_type": "markdown",
   "id": "1ead49a1",
   "metadata": {},
   "source": [
    "This time,the 10 highest ranking nodes will point(out-link) to our node and our node will point to the 10 lowest ranking nodes."
   ]
  },
  {
   "cell_type": "code",
   "execution_count": 38,
   "id": "58499b2a",
   "metadata": {},
   "outputs": [
    {
     "data": {
      "text/plain": [
       "array([[288238, 685230],\n",
       "       [     9, 685230],\n",
       "       [225465, 685230],\n",
       "       [ 54130, 685230],\n",
       "       [  1283, 685230],\n",
       "       [564114, 685230],\n",
       "       [288346, 685230],\n",
       "       [ 65122, 685230],\n",
       "       [   113, 685230],\n",
       "       [   114, 685230]], dtype=int64)"
      ]
     },
     "execution_count": 38,
     "metadata": {},
     "output_type": "execute_result"
    }
   ],
   "source": [
    "#Inversing in-links with out-links from the previous question\n",
    "x1newnew=x1new[:,[1,0]]\n",
    "x1newnew"
   ]
  },
  {
   "cell_type": "code",
   "execution_count": 39,
   "id": "431e96ec",
   "metadata": {},
   "outputs": [
    {
     "data": {
      "text/plain": [
       "array([[685230,   3558],\n",
       "       [685230,   3557],\n",
       "       [685230,   3368],\n",
       "       [685230,   3367],\n",
       "       [685230,   3226],\n",
       "       [685230,   2860],\n",
       "       [685230,    781],\n",
       "       [685230,    780],\n",
       "       [685230,    779],\n",
       "       [685230,    778]], dtype=int64)"
      ]
     },
     "execution_count": 39,
     "metadata": {},
     "output_type": "execute_result"
    }
   ],
   "source": [
    "#10 lowest ranking nodes\n",
    "x2testing=pagerankb.argsort()[::-1][-10:]\n",
    "#Out-linking to the 10 lowest ranking nodes\n",
    "x2newnew=np.stack(([685230]*10,x2testing),axis=1)\n",
    "x2newnew"
   ]
  },
  {
   "cell_type": "code",
   "execution_count": 40,
   "id": "399ece46",
   "metadata": {},
   "outputs": [],
   "source": [
    "#Stacking them together\n",
    "xfinal2=np.vstack((x1newnew,x2newnew))\n",
    "xfinal2 = pd.DataFrame(xfinal2)\n",
    "xfinal2=xfinal2.rename(columns={0:'Node',1:'Outlink'})\n",
    "#Creating the new final dataframe\n",
    "finaldf2=pd.concat([data,xfinal2])"
   ]
  },
  {
   "cell_type": "code",
   "execution_count": 41,
   "id": "c70df335",
   "metadata": {},
   "outputs": [],
   "source": [
    "#Getting the probability Distribution of each node\n",
    "weight3=finaldf2.Node.value_counts()\n",
    "finaldf2['weight'] = finaldf2['Node'].apply(lambda r : 1/weight3[r])\n",
    "\n",
    "#Creating the sparse matrix\n",
    "rows = (finaldf2['Node'])\n",
    "cols = (finaldf2['Outlink'])\n",
    "n = len(set(rows) | set(cols))\n",
    "a = np.zeros(n)\n",
    "a[list(set(cols).difference(set(rows)))] = 1\n",
    "matrix3 = sparse.csr_matrix((finaldf2.weight,(rows, cols)))\n",
    "\n",
    "#Creating E,V\n",
    "e = np.ones((matrix3.shape[0],1))\n",
    "v = np.ones((matrix3.shape[0],1))/matrix3.shape[0]"
   ]
  },
  {
   "cell_type": "code",
   "execution_count": 42,
   "id": "0e9213bf",
   "metadata": {},
   "outputs": [
    {
     "data": {
      "text/plain": [
       "(685231, 685231)"
      ]
     },
     "execution_count": 42,
     "metadata": {},
     "output_type": "execute_result"
    }
   ],
   "source": [
    "#Making sure shapes match\n",
    "matrix3.shape"
   ]
  },
  {
   "cell_type": "code",
   "execution_count": 43,
   "id": "adf9c0d0",
   "metadata": {},
   "outputs": [
    {
     "name": "stdout",
     "output_type": "stream",
     "text": [
      "71 iterations\n"
     ]
    }
   ],
   "source": [
    "finaltest=power_method(matrix3,a,0.85,v,1e-8)"
   ]
  },
  {
   "cell_type": "code",
   "execution_count": 44,
   "id": "713305d4",
   "metadata": {},
   "outputs": [
    {
     "data": {
      "text/plain": [
       "array([[1.90811781e-05],\n",
       "       [4.26600484e-06],\n",
       "       [2.87615562e-06],\n",
       "       ...,\n",
       "       [3.11938602e-07],\n",
       "       [3.11938602e-07],\n",
       "       [2.11962172e-03]])"
      ]
     },
     "execution_count": 44,
     "metadata": {},
     "output_type": "execute_result"
    }
   ],
   "source": [
    "finaltest"
   ]
  },
  {
   "cell_type": "code",
   "execution_count": 45,
   "id": "4fc08377",
   "metadata": {},
   "outputs": [
    {
     "data": {
      "text/plain": [
       "685220"
      ]
     },
     "execution_count": 45,
     "metadata": {},
     "output_type": "execute_result"
    }
   ],
   "source": [
    "rankdata(finaltest,method='ordinal')[-1]"
   ]
  },
  {
   "cell_type": "code",
   "execution_count": 46,
   "id": "b6bf798b",
   "metadata": {},
   "outputs": [
    {
     "name": "stdout",
     "output_type": "stream",
     "text": [
      "The new node is ranked at 11 out of 685231 total nodes\n"
     ]
    }
   ],
   "source": [
    "print('The new node is ranked at',685231-rankdata(finaltest,method='ordinal')[-1],'out of 685231 total nodes')"
   ]
  },
  {
   "cell_type": "code",
   "execution_count": 47,
   "id": "73390773",
   "metadata": {},
   "outputs": [],
   "source": [
    "pagerankfinal=rankdata(finaltest,method='ordinal')"
   ]
  },
  {
   "cell_type": "code",
   "execution_count": 48,
   "id": "f5115dc0",
   "metadata": {},
   "outputs": [
    {
     "data": {
      "text/plain": [
       "array([288238,      9, 225465,  54130,   1283, 564114,    113,    114,\n",
       "       288346,  65122], dtype=int64)"
      ]
     },
     "execution_count": 48,
     "metadata": {},
     "output_type": "execute_result"
    }
   ],
   "source": [
    "#10 highest ranking nodes now\n",
    "tenhighestnow=pagerankfinal.argsort()[::-1][:10]\n",
    "tenhighestnow"
   ]
  },
  {
   "cell_type": "code",
   "execution_count": 49,
   "id": "77fcc8e8",
   "metadata": {},
   "outputs": [
    {
     "data": {
      "text/plain": [
       "array([4177, 4151, 4125, 3916, 3915, 3914, 3744, 3743, 3742, 3559],\n",
       "      dtype=int64)"
      ]
     },
     "execution_count": 49,
     "metadata": {},
     "output_type": "execute_result"
    }
   ],
   "source": [
    "#10 lowest ranking nodes now\n",
    "tenlowestnow=pagerankfinal.argsort()[::-1][-10:]\n",
    "tenlowestnow"
   ]
  },
  {
   "cell_type": "code",
   "execution_count": 50,
   "id": "1610d787",
   "metadata": {},
   "outputs": [
    {
     "name": "stdout",
     "output_type": "stream",
     "text": [
      "[ True  True  True  True  True  True False False False False]\n"
     ]
    }
   ],
   "source": [
    "print(tenhighestnow == tenhighest)"
   ]
  },
  {
   "cell_type": "markdown",
   "id": "fcbfacfb",
   "metadata": {},
   "source": [
    "The new node is ranked 11th from the top and it has affected the ranking of the 10 highest nodes.\n",
    "The previous 10 highest ranked nodes are now pointing(out-link) at our new node and have boosted its page-rank score making it rank 11th."
   ]
  },
  {
   "cell_type": "markdown",
   "id": "f65a33af",
   "metadata": {},
   "source": [
    "To be precise, it affected the last 4 out of the 10 highest ranking nodes."
   ]
  },
  {
   "cell_type": "code",
   "execution_count": 51,
   "id": "906e5268",
   "metadata": {},
   "outputs": [
    {
     "name": "stdout",
     "output_type": "stream",
     "text": [
      "[False False False False False False False False False False]\n"
     ]
    }
   ],
   "source": [
    "print(tenlowestnow == tenlowest)"
   ]
  },
  {
   "cell_type": "markdown",
   "id": "9209748b",
   "metadata": {},
   "source": [
    "We see that the 10 lowest ranking nodes have completely changed when adding the new node and that is because they were the ones that our new node is pointing at(Out links to).\n",
    "In other words,our new node which is now important(Ranked 11th) also points at the previous 10 lowest ranking nodes and has therefore boosted their respective scores and they are no longer amongst the lowest ranking nodes."
   ]
  },
  {
   "cell_type": "markdown",
   "id": "aba913c6",
   "metadata": {},
   "source": [
    "We see from question 4 that even though 500 hundred webpages were out-linking towards our new node,that placed at a way lower rank than that of when the 10 most important nodes were pointing to it.\n",
    "\n",
    "A webpage's PageRank score can be improved by having more and more pages link to it.\n",
    "Naturally, if such pages have a high PageRank score, their contribution will be even greater.\n",
    "\n",
    "#### In other words,value matters more than volume.(Quality over quantity)"
   ]
  }
 ],
 "metadata": {
  "kernelspec": {
   "display_name": "Python 3 (ipykernel)",
   "language": "python",
   "name": "python3"
  },
  "language_info": {
   "codemirror_mode": {
    "name": "ipython",
    "version": 3
   },
   "file_extension": ".py",
   "mimetype": "text/x-python",
   "name": "python",
   "nbconvert_exporter": "python",
   "pygments_lexer": "ipython3",
   "version": "3.8.8"
  }
 },
 "nbformat": 4,
 "nbformat_minor": 5
}
